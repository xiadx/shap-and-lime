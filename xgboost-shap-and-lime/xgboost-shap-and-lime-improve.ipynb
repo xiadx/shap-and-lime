{
 "cells": [
  {
   "cell_type": "code",
   "execution_count": 1,
   "metadata": {},
   "outputs": [
    {
     "data": {
      "text/plain": [
       "'xgboost shap and lime improve'"
      ]
     },
     "execution_count": 1,
     "metadata": {},
     "output_type": "execute_result"
    }
   ],
   "source": [
    "#!/usr/bin/env python\n",
    "\"\"\"xgboost shap and lime improve\"\"\""
   ]
  },
  {
   "cell_type": "code",
   "execution_count": 2,
   "metadata": {},
   "outputs": [],
   "source": [
    "# parameter\n",
    "MODEL = \"onTravelV6C\"\n",
    "TRAIN_SAMPLES = 5000\n",
    "TEST_SAMPLES = 1000\n",
    "TRAIN_DATA_FILE = \"train_\" + MODEL + \".txt\"\n",
    "TEST_DATA_FILE = \"test_\" + MODEL + \".txt\"\n",
    "BALANCE_TRAIN_SAMPLE_FILE = \"balance_sample_\" + str(TRAIN_SAMPLES) + \"_\" + TRAIN_DATA_FILE\n",
    "BALANCE_TEST_SAMPLE_FILE = \"balance_sample_\" + str(TEST_SAMPLES) + \"_\" + TEST_DATA_FILE\n",
    "IMBALANCE_TRAIN_SAMPLR_FILE = \"imbalance_sample_\" + str(TRAIN_SAMPLES) + \"_\" + TRAIN_DATA_FILE\n",
    "IMBALANCE_TEST_SAMPLR_FILE = \"imbalance_sample_\" + str(TRAIN_SAMPLES) + \"_\" + TEST_DATA_FILE\n",
    "FEATMAP_FILE = \"feature_map_\" + MODEL + \".json\"\n",
    "MODEL_FILE = MODEL + \".model\""
   ]
  },
  {
   "cell_type": "code",
   "execution_count": 3,
   "metadata": {},
   "outputs": [],
   "source": [
    "# package\n",
    "from sklearn.datasets import load_svmlight_file\n",
    "from sklearn.ensemble import GradientBoostingClassifier\n",
    "import xgboost as xgb\n",
    "import numpy as np\n",
    "import pandas as pd\n",
    "import matplotlib.pyplot as plt\n",
    "%matplotlib inline\n",
    "plt.style.use(\"seaborn\")\n",
    "import shap\n",
    "import lime\n",
    "import json\n",
    "import re\n",
    "import os\n",
    "import sys"
   ]
  },
  {
   "cell_type": "code",
   "execution_count": 4,
   "metadata": {},
   "outputs": [],
   "source": [
    "# prepare\n",
    "if not os.path.exists(MODEL_FILE):\n",
    "    flag = os.system(\"cp /opt/tomcat/webapps/model/\" + MODEL + \" ./\")\n",
    "    status = os.system(\"mv \" + MODEL + \" \" + MODEL_FILE)\n",
    "    if flag != 0 or status != 0:\n",
    "        print(\"get file failure\")\n",
    "        sys.exit(1)\n",
    "if not os.path.exists(FEATMAP_FILE):\n",
    "    flag = os.system(\"hadoop fs -text /user/wanglei3/featureMap/onTravel/\" + MODEL + \"/part-00000.snappy > \" + FEATMAP_FILE)\n",
    "    if flag != 0:\n",
    "        print(\"get file failure\")\n",
    "        sys.exit(1)\n",
    "if not os.path.exists(TRAIN_DATA_FILE):\n",
    "    flag = os.system(\"cp /mfw_data/algo/wanglei/spark_offline/train_data/onTravel/\" + TRAIN_DATA_FILE + \" ./\")\n",
    "    if flag != 0:\n",
    "        print(\"get file failure\")\n",
    "        sys.exit(1)\n",
    "if not os.path.exists(TEST_DATA_FILE):\n",
    "    flag = os.system(\"cp /mfw_data/algo/wanglei/spark_offline/train_data/onTravel/\" + TEST_DATA_FILE + \" ./\")\n",
    "    if flag != 0:\n",
    "        print(\"get file failure\")\n",
    "        sys.exit(1)"
   ]
  },
  {
   "cell_type": "code",
   "execution_count": null,
   "metadata": {},
   "outputs": [],
   "source": [
    "# balance sample\n",
    "if not os.path.exists(BALANCE_TRAIN_SAMPLE_FILE):\n",
    "    fr = open(TRAIN_DATA_FILE, \"r\")\n",
    "    fw = open(BALANCE_TRAIN_SAMPLE_FILE, \"w\")\n",
    "    i, j, n = 0, 0, int(TRAIN_SAMPLES / 2)\n",
    "    for line in fr:\n",
    "        label = float(line.strip().split()[0])\n",
    "        if label == 0.0:\n",
    "            if i < n:\n",
    "                fw.write(line)\n",
    "                i += 1\n",
    "        else:\n",
    "            if j < n:\n",
    "                fw.write(line)\n",
    "                j += 1\n",
    "        if i >= n and j >= n:\n",
    "            break\n",
    "    fw.close()\n",
    "    fr.close()\n",
    "if not os.path.exists(BALANCE_TEST_SAMPLE_FILE):\n",
    "    fr = open(TEST_DATA_FILE, \"r\")\n",
    "    fw = open(BALANCE_TEST_SAMPLE_FILE, \"w\")\n",
    "    i, j, n = 0, 0, int(TEST_SAMPLES / 2)\n",
    "    for line in fr:\n",
    "        label = float(line.strip().split()[0])\n",
    "        if label == 0.0:\n",
    "            if i < n:\n",
    "                fw.write(line)\n",
    "                i += 1\n",
    "        else:\n",
    "            if j < n:\n",
    "                  fw.write(line)\n",
    "                                      j += 1\n",
    "        if i >= n and j >= n:\n",
    "            break\n",
    "    fw.close()\n",
    "    fr.close()"
   ]
  },
  {
   "cell_type": "code",
   "execution_count": null,
   "metadata": {},
   "outputs": [],
   "source": [
    "# imbalance sample\n",
    "if not os.path.exists(IMBALANCE_TRAIN_SAMPLR_FILE):\n",
    "    flag = os.system(\"shuf -n \" + TRAIN_SAMPLES + \" -o \" +  )"
   ]
  },
  {
   "cell_type": "code",
   "execution_count": null,
   "metadata": {},
   "outputs": [],
   "source": [
    "!ls"
   ]
  },
  {
   "cell_type": "code",
   "execution_count": null,
   "metadata": {},
   "outputs": [],
   "source": [
    "# feature map\n",
    "with open(FEATMAP_FILE) as fp:\n",
    "    feature_map = json.load(fp)\n",
    "cols = []\n",
    "i = 0\n",
    "for fm in feature_map:\n",
    "    if i == 0:\n",
    "        pass\n",
    "    else:\n",
    "        print(fm)\n",
    "        cols.append(re.search(r\"\\t(.*)\\t\", fm).group(1))\n",
    "    i += 1"
   ]
  },
  {
   "cell_type": "code",
   "execution_count": null,
   "metadata": {},
   "outputs": [],
   "source": [
    "# load libsvm format file\n",
    "X, y = load_svmlight_file(TEST_SAMPLE_FILE, n_features=len(cols))\n",
    "print(X.toarray().shape)"
   ]
  },
  {
   "cell_type": "code",
   "execution_count": null,
   "metadata": {},
   "outputs": [],
   "source": [
    "# create dataframe\n",
    "df = pd.DataFrame(X.toarray())\n",
    "df.columns = cols\n",
    "df[\"repair\"] = np.zeros(TEST_SAMPLES)\n",
    "df[\"label\"] = y\n",
    "df = df[[\"repair\"]+cols+[\"label\"]]\n",
    "df.head()"
   ]
  },
  {
   "cell_type": "code",
   "execution_count": null,
   "metadata": {},
   "outputs": [],
   "source": [
    "IS_TRAIN = False"
   ]
  },
  {
   "cell_type": "code",
   "execution_count": null,
   "metadata": {},
   "outputs": [],
   "source": [
    "# train xgboost model\n",
    "if IS_TRAIN:\n",
    "    param = {\n",
    "        \"objective\": \"binary:logistic\",\n",
    "        \"eta\": 0.1,\n",
    "        \"max_depth\": 7,\n",
    "        \"min_child_weight\": 1,\n",
    "        \"gamma\": 0,\n",
    "        \"subsample\": 0.8,\n",
    "        \"colsample_bytree\": 0.8,\n",
    "        \"scale_pos_weight\": 1,\n",
    "        \"silent\": True\n",
    "    }\n",
    "    num_boost_round = 300\n",
    "    dtrain = xgb.DMatrix(df[[\"repair\"]+cols], label=df[\"label\"])\n",
    "    bst_xgb = xgb.train(param, dtrain, num_boost_round=num_boost_round)\n",
    "else:\n",
    "    bst = xgb.Booster(model_file=MODEL_FILE)"
   ]
  },
  {
   "cell_type": "code",
   "execution_count": null,
   "metadata": {},
   "outputs": [],
   "source": [
    "if IS_TRAIN == True:\n",
    "    model = bst_xgb\n",
    "else:\n",
    "    model = bst"
   ]
  },
  {
   "cell_type": "code",
   "execution_count": null,
   "metadata": {},
   "outputs": [],
   "source": [
    "# margin or probability\n",
    "MODEL_OUTPUT = \"probability\""
   ]
  },
  {
   "cell_type": "code",
   "execution_count": null,
   "metadata": {},
   "outputs": [],
   "source": [
    "# shap\n",
    "if MODEL_OUTPUT == \"margin\":\n",
    "    # margin explanation\n",
    "    shap_explainer = shap.TreeExplainer(model)\n",
    "if MODEL_OUTPUT == \"probability\":\n",
    "    # probability explanation\n",
    "    shap_explainer = shap.TreeExplainer(model, df[[\"repair\"]+cols][:10], model_output=\"probability\", feature_dependence=\"independent\")"
   ]
  },
  {
   "cell_type": "code",
   "execution_count": null,
   "metadata": {},
   "outputs": [],
   "source": [
    "shap_values = shap_explainer.shap_values(df[[\"repair\"]+cols])\n",
    "print(\"shap_values.shape: \", shap_values.shape)\n",
    "y_base = shap_explainer.expected_value\n",
    "print(\"y_base: \", y_base)"
   ]
  },
  {
   "cell_type": "code",
   "execution_count": null,
   "metadata": {},
   "outputs": [],
   "source": [
    "if MODEL_OUTPUT == \"margin\":\n",
    "    # margin explanation\n",
    "    df[\"pred\"] = model.predict(xgb.DMatrix(df[[\"repair\"]+cols], label=df[\"label\"]), output_margin=True)\n",
    "if MODEL_OUTPUT == \"probability\":\n",
    "    # probability explanation\n",
    "    df[\"pred\"] = model.predict(xgb.DMatrix(df[[\"repair\"]+cols], label=df[\"label\"]), output_margin=False)\n",
    "print(\"pred mean: \", df[\"pred\"].mean())\n",
    "df.head()"
   ]
  },
  {
   "cell_type": "code",
   "execution_count": null,
   "metadata": {},
   "outputs": [],
   "source": [
    "shap.initjs()\n",
    "sha['p.force_plot(shap_explainer.expected_value, shap_values[2:3], df[[\"repair\"]+cols][2:3])']"
   ]
  },
  {
   "cell_type": "code",
   "execution_count": null,
   "metadata": {},
   "outputs": [],
   "source": [
    "pd.DataFrame(shap_values[1:2], columns=[\"repair\"]+cols)[\"mdd_hot\"]"
   ]
  },
  {
   "cell_type": "code",
   "execution_count": null,
   "metadata": {},
   "outputs": [],
   "source": [
    "shap.initjs()\n",
    "shap.force_plot(shap_explainer.expected_value, shap_values[:4], df[[\"repair\"]+cols][:4])"
   ]
  },
  {
   "cell_type": "code",
   "execution_count": null,
   "metadata": {},
   "outputs": [],
   "source": [
    "shap.summary_plot(shap_values, df[[\"repair\"]+cols], plot_type=\"bar\")"
   ]
  },
  {
   "cell_type": "code",
   "execution_count": null,
   "metadata": {},
   "outputs": [],
   "source": [
    "import seaborn as sns\n",
    "feature_importance = pd.DataFrame([(x[0], x[1]) for x in model.get_score().items()], columns=[\"feature\", \"importance\"])\n",
    "feature_importance.sort_values(by=[\"importance\"], ascending=False, inplace=True)\n",
    "sns.barplot(x=\"importance\", y=\"feature\", data=feature_importance[:20], color=\"dodgerblue\")"
   ]
  },
  {
   "cell_type": "code",
   "execution_count": null,
   "metadata": {},
   "outputs": [],
   "source": [
    "shap.summary_plot(shap_values, df[[\"repair\"]+cols])"
   ]
  },
  {
   "cell_type": "code",
   "execution_count": null,
   "metadata": {},
   "outputs": [],
   "source": [
    "if MODEL_OUTPUT == \"margin\":\n",
    "    shap_interaction_values = shap_explainer.shap_interaction_values(df[[\"repair\"]+cols])\n",
    "    shap.summary_plot(shap_interaction_values, df[[\"repair\"]+cols], max_display=4)"
   ]
  },
  {
   "cell_type": "code",
   "execution_count": null,
   "metadata": {},
   "outputs": [],
   "source": [
    "# j = np.random.randint(N_SAMPLES)"
   ]
  },
  {
   "cell_type": "code",
   "execution_count": null,
   "metadata": {},
   "outputs": [],
   "source": [
    "i = np.random.choice(df[df[\"pred\"] <= y_base].index.tolist())\n",
    "print(\"negative sample\")\n",
    "player_explainer = pd.DataFrame()\n",
    "player_explainer['feature'] = [\"repair\"]+cols\n",
    "player_explainer['feature_value'] = df[[\"repair\"]+cols].iloc[i].values\n",
    "player_explainer['shap_value'] = shap_values[i]\n",
    "print(\"y_base + sum_of_shap_values: %.2f\" % (y_base + player_explainer[\"shap_value\"].sum()))\n",
    "print(\"y_pred: %.2f\" % (df[\"pred\"].iloc[i]))"
   ]
  },
  {
   "cell_type": "code",
   "execution_count": null,
   "metadata": {},
   "outputs": [],
   "source": [
    "shap.initjs()\n",
    "shap.force_plot(shap_explainer.expected_value, shap_values[i], df[[\"repair\"]+cols].iloc[i])"
   ]
  },
  {
   "cell_type": "code",
   "execution_count": null,
   "metadata": {},
   "outputs": [],
   "source": [
    "j = np.random.choice(df[df[\"pred\"] >= y_base].index.tolist())\n",
    "print(\"positive sample\")\n",
    "player_explainer = pd.DataFrame()\n",
    "player_explainer['feature'] = [\"repair\"]+cols\n",
    "player_explainer['feature_value'] = df[[\"repair\"]+cols].iloc[j].values\n",
    "player_explainer['shap_value'] = shap_values[j]\n",
    "print(\"y_base + sum_of_shap_values: %.2f\" % (y_base + player_explainer[\"shap_value\"].sum()))\n",
    "print(\"y_pred: %.2f\" % (df[\"pred\"].iloc[j]))"
   ]
  },
  {
   "cell_type": "code",
   "execution_count": null,
   "metadata": {},
   "outputs": [],
   "source": [
    "shap.initjs()\n",
    "shap.force_plot(shap_explainer.expected_value, shap_values[j], df[[\"repair\"]+cols].iloc[j])"
   ]
  },
  {
   "cell_type": "code",
   "execution_count": null,
   "metadata": {},
   "outputs": [],
   "source": [
    "FEATURE=\"doubleFlow_article_ctr_30_v1\"\n",
    "INTERACTION=\"doubleFlow_user_view_30\"\n",
    "shap.dependence_plot(FEATURE, shap_values, df[[\"repair\"]+cols], interaction_index=None, show=False)\n",
    "shap.dependence_plot(FEATURE, shap_values, df[[\"repair\"]+cols], interaction_index=INTERACTION, show=False) "
   ]
  },
  {
   "cell_type": "code",
   "execution_count": null,
   "metadata": {},
   "outputs": [],
   "source": [
    "# lime\n",
    "lime_explainer = lime.lime_tabular.LimeTabularExplainer(df[[\"repair\"]+cols].values, \n",
    "                                                   feature_names=[\"repair\"]+cols,\n",
    "                                                   class_names=[\"0\", \"1\"], \n",
    "                                                   verbose=True)"
   ]
  },
  {
   "cell_type": "code",
   "execution_count": null,
   "metadata": {},
   "outputs": [],
   "source": [
    "model.feature_names = None\n",
    "def predict_fn(x):\n",
    "    preds = model.predict(xgb.DMatrix(x))\n",
    "    return np.array([[1-p, p] for p in preds])"
   ]
  },
  {
   "cell_type": "code",
   "execution_count": null,
   "metadata": {},
   "outputs": [],
   "source": [
    "print(\"negative sample\")\n",
    "i = np.random.choice(df[df[\"pred\"] <= y_base].index.tolist())"
   ]
  },
  {
   "cell_type": "code",
   "execution_count": null,
   "metadata": {},
   "outputs": [],
   "source": [
    "exp = lime_explainer.explain_instance(df[[\"repair\"]+cols].values[i], predict_fn, num_features=5)\n",
    "exp.show_in_notebook(show_table=True)"
   ]
  },
  {
   "cell_type": "code",
   "execution_count": null,
   "metadata": {},
   "outputs": [],
   "source": [
    "exp.as_list()\n",
    "fig = exp.as_pyplot_figure()\n",
    "fig.show()"
   ]
  },
  {
   "cell_type": "code",
   "execution_count": null,
   "metadata": {},
   "outputs": [],
   "source": [
    "print(\"positive sample\")\n",
    "j = np.random.choice(df[df[\"pred\"] >= y_base].index.tolist())"
   ]
  },
  {
   "cell_type": "code",
   "execution_count": null,
   "metadata": {},
   "outputs": [],
   "source": [
    "exp = lime_explainer.explain_instance(df[[\"repair\"]+cols].values[j], predict_fn, num_features=5)\n",
    "exp.show_in_notebook(show_table=True)"
   ]
  },
  {
   "cell_type": "code",
   "execution_count": null,
   "metadata": {},
   "outputs": [],
   "source": [
    "exp.as_list()\n",
    "fig = exp.as_pyplot_figure()\n",
    "fig.show()"
   ]
  },
  {
   "cell_type": "code",
   "execution_count": null,
   "metadata": {},
   "outputs": [],
   "source": [
    "!jupyter nbconvert --to python xgboost-shap-and-lime-improve.ipynb"
   ]
  },
  {
   "cell_type": "code",
   "execution_count": null,
   "metadata": {},
   "outputs": [],
   "source": [
    "!jupyter nbconvert --to html xgboost-shap-and-lime-improve.ipynb"
   ]
  },
  {
   "cell_type": "code",
   "execution_count": null,
   "metadata": {},
   "outputs": [],
   "source": [
    "# !jupyter nbconvert --to pdf xgboost-shap-and-lime-improve.ipynb"
   ]
  },
  {
   "cell_type": "code",
   "execution_count": null,
   "metadata": {},
   "outputs": [],
   "source": [
    "!ls"
   ]
  }
 ],
 "metadata": {
  "kernelspec": {
   "display_name": "Python 3",
   "language": "python",
   "name": "python3"
  },
  "language_info": {
   "codemirror_mode": {
    "name": "ipython",
    "version": 3
   },
   "file_extension": ".py",
   "mimetype": "text/x-python",
   "name": "python",
   "nbconvert_exporter": "python",
   "pygments_lexer": "ipython3",
   "version": "3.7.3"
  }
 },
 "nbformat": 4,
 "nbformat_minor": 2
}

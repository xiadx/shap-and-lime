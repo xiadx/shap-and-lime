{
 "cells": [
  {
   "cell_type": "code",
   "execution_count": null,
   "metadata": {
    "scrolled": true
   },
   "outputs": [],
   "source": [
    "#!/usr/bin/env python\n",
    "\"\"\"xgboost shap and lime\"\"\""
   ]
  },
  {
   "cell_type": "code",
   "execution_count": null,
   "metadata": {
    "scrolled": true
   },
   "outputs": [],
   "source": [
    "# parameter\n",
    "MODEL = \"onTravelV6C\"\n",
    "N_SAMPLES = 500\n",
    "TRAIN_DATA_FILE = \"train_\" + MODEL + \".txt\"\n",
    "SAMPLE_FILE = \"sample_train_\" + MODEL + \".txt\"\n",
    "FEATURE_MAP_FILE = \"feature_map_\" + MODEL + \".json\"\n",
    "MODEL_FILE = MODEL + \".bin\"\n",
    "SAMPLE_FILE = \"sample_\" + str(N_SAMPLES) + \"_\" + TRAIN_DATA_FILE"
   ]
  },
  {
   "cell_type": "code",
   "execution_count": null,
   "metadata": {
    "scrolled": true
   },
   "outputs": [],
   "source": [
    "%%bash\n",
    "# prepare\n",
    "\n",
    "# parameter\n",
    "MODEL=\"onTravelV6C\"\n",
    "N_SAMPLES=500\n",
    "TRAIN_DATA_FILE=\"train_${MODEL}.txt\"\n",
    "SAMPLE_FILE=\"sample_train_${MODEL}.txt\"\n",
    "FEATURE_MAP_FILE=\"feature_map_${MODEL}.json\"\n",
    "MODEL_FILE=\"${MODEL}.bin\"\n",
    "SAMPLE_FILE=\"sample_${N_SAMPLES}_${TRAIN_DATA_FILE}\"\n",
    "\n",
    "# train data file\n",
    "if [[ ! -f ${TRAIN_DATA_FILE} ]]; then\n",
    "    echo \"Train Data File Not Exist\"\n",
    "    echo \"Copy File Begin\"\n",
    "    cp /mfw_data/algo/wanglei/spark_offline/train_data/onTravel/${TRAIN_DATA_FILE} ./\n",
    "    echo \"Copy File End\"\n",
    "fi\n",
    "\n",
    "# feature map data file\n",
    "if [[ ! -f ${FEATURE_MAP_FILE} ]]; then\n",
    "    echo \"Feature Map File Not Exist\"\n",
    "    echo \"Get File Begin\"\n",
    "    hadoop fs -text /user/wanglei3/featureMap/onTravel/${MODEL}/part-00000.snappy > ${FEATURE_MAP_FILE}\n",
    "    echo \"Get File End\"\n",
    "fi\n",
    "\n",
    "# xgboost model file\n",
    "if [[ ! -f ${MODEL_FILE} ]]; then\n",
    "    echo \"Model File Not Exist\"\n",
    "    echo \"Copy File Begin\"\n",
    "    cp /opt/tomcat/webapps/model/${MODEL} ./\n",
    "    mv ${MODEL} ${MODEL}.bin\n",
    "    echo \"Copy File End\"\n",
    "fi\n",
    "\n",
    "# random sampling\n",
    "if [[ ! -f ${SAMPLE_FILE} ]]; then\n",
    "    echo \"Sample File Not Exist\"\n",
    "    echo \"Sampling Begin\"\n",
    "    shuf -n ${N_SAMPLES} ${TRAIN_DATA_FILE} -o sample_${N_SAMPLES}_${TRAIN_DATA_FILE}\n",
    "    echo \"Sampling End\"\n",
    "fi\n",
    "\n",
    "ls"
   ]
  },
  {
   "cell_type": "code",
   "execution_count": null,
   "metadata": {
    "scrolled": true
   },
   "outputs": [],
   "source": [
    "# ipython core option  \n",
    "from IPython.core.interactiveshell import InteractiveShell\n",
    "InteractiveShell.ast_node_interactivity = \"all\""
   ]
  },
  {
   "cell_type": "code",
   "execution_count": null,
   "metadata": {
    "scrolled": true
   },
   "outputs": [],
   "source": [
    "# package\n",
    "from sklearn.datasets import load_svmlight_file\n",
    "from sklearn.ensemble import GradientBoostingClassifier\n",
    "import xgboost as xgb\n",
    "import numpy as np\n",
    "import pandas as pd\n",
    "import matplotlib.pyplot as plt\n",
    "%matplotlib inline\n",
    "plt.style.use(\"seaborn\")\n",
    "import shap\n",
    "import lime\n",
    "import json\n",
    "import re"
   ]
  },
  {
   "cell_type": "code",
   "execution_count": null,
   "metadata": {
    "scrolled": true
   },
   "outputs": [],
   "source": [
    "# feature map\n",
    "with open(FEATURE_MAP_FILE) as fp:\n",
    "    feature_map = json.load(fp)\n",
    "cols = []\n",
    "i = 0\n",
    "for fm in feature_map:\n",
    "    if i == 0:\n",
    "        pass\n",
    "    else:\n",
    "        print(fm)\n",
    "        cols.append(re.search(r\"\\t(.*)\\t\", fm).group(1))\n",
    "    i += 1   "
   ]
  },
  {
   "cell_type": "code",
   "execution_count": null,
   "metadata": {
    "scrolled": true
   },
   "outputs": [],
   "source": [
    "# load libsvm format file\n",
    "X, y = load_svmlight_file(SAMPLE_FILE, n_features=len(cols))\n",
    "print(X[0].todense().shape)\n",
    "print(y[0])"
   ]
  },
  {
   "cell_type": "code",
   "execution_count": null,
   "metadata": {
    "scrolled": true
   },
   "outputs": [],
   "source": [
    "# create dataframe\n",
    "df = pd.DataFrame(X.todense())\n",
    "df.columns = cols\n",
    "df[\"repair\"] = np.zeros(N_SAMPLES)\n",
    "df[\"label\"] = y\n",
    "df = df[[\"repair\"]+cols+[\"label\"]]\n",
    "df.head()"
   ]
  },
  {
   "cell_type": "code",
   "execution_count": null,
   "metadata": {},
   "outputs": [],
   "source": [
    "IS_TRAIN = False"
   ]
  },
  {
   "cell_type": "code",
   "execution_count": null,
   "metadata": {
    "scrolled": true
   },
   "outputs": [],
   "source": [
    "# train xgboost model\n",
    "if IS_TRAIN:\n",
    "#     from sklearn.ensemble import GradientBoostingClassifier\n",
    "#     param = {\n",
    "#         \"loss\": \"deviance\",\n",
    "#         \"learning_rate\": 0.1,\n",
    "#         \"max_depth\": 7,\n",
    "#         \"subsample\": 0.8,\n",
    "#         \"n_estimators\": 300\n",
    "#     }\n",
    "#     sk_gbt = GradientBoostingClassifier(**param)\n",
    "#     sk_gbt.fit(df[[\"repair\"]+cols], df[\"label\"])\n",
    "\n",
    "#     param = {\n",
    "#         \"objective\": \"binary:logistic\",\n",
    "#         \"learning_rate\": 0.1,\n",
    "#         \"max_depth\": 7,\n",
    "#         \"min_child_weight\": 1,\n",
    "#         \"gamma\": 0,\n",
    "#         \"subsample\": 0.8,\n",
    "#         \"colsample_bytree\": 0.8,\n",
    "#         \"scale_pos_weight\": 1,\n",
    "#         \"n_estimators\": 300,\n",
    "#     }\n",
    "#     sk_xgb = xgb.XGBClassifier(**param)\n",
    "#     sk_xgb.fit(df[[\"repair\"]+cols], df[\"label\"])\n",
    "\n",
    "    param = {\n",
    "        \"objective\": \"binary:logistic\",\n",
    "        \"eta\": 0.1,\n",
    "        \"max_depth\": 7,\n",
    "        \"min_child_weight\": 1,\n",
    "        \"gamma\": 0,\n",
    "        \"subsample\": 0.8,\n",
    "        \"colsample_bytree\": 0.8,\n",
    "        \"scale_pos_weight\": 1,\n",
    "        \"silent\": True\n",
    "    }\n",
    "    num_boost_round = 300\n",
    "    dtrain = xgb.DMatrix(df[[\"repair\"]+cols], label=df[\"label\"])\n",
    "    bst_xgb = xgb.train(param, dtrain, num_boost_round=num_boost_round)\n",
    "else:\n",
    "    bst = xgb.Booster(model_file=MODEL_FILE)"
   ]
  },
  {
   "cell_type": "code",
   "execution_count": null,
   "metadata": {},
   "outputs": [],
   "source": [
    "if IS_TRAIN == True:\n",
    "    model = bst_xgb\n",
    "else:\n",
    "    model = bst"
   ]
  },
  {
   "cell_type": "code",
   "execution_count": null,
   "metadata": {},
   "outputs": [],
   "source": [
    "# margin or probability\n",
    "MODEL_OUTPUT = \"probability\""
   ]
  },
  {
   "cell_type": "code",
   "execution_count": null,
   "metadata": {},
   "outputs": [],
   "source": [
    "# shap\n",
    "if MODEL_OUTPUT == \"margin\":\n",
    "    # margin explanation\n",
    "    shap_explainer = shap.TreeExplainer(model)\n",
    "if MODEL_OUTPUT == \"probability\":\n",
    "    # probability explanation\n",
    "    BACKGROUND_DATASET_SIZE = 1000\n",
    "    if len(df[[\"repair\"]+cols]) <= BACKGROUND_DATASET_SIZE:\n",
    "        background_dataset = df[[\"repair\"]+cols]\n",
    "    else:\n",
    "        background_dataset = df[[\"repair\"]+cols].sample(BACKGROUND_DATASET_SIZE)\n",
    "    shap_explainer = shap.TreeExplainer(model, background_dataset.values, model_output=\"probability\", feature_dependence=\"independent\")\n"
   ]
  },
  {
   "cell_type": "code",
   "execution_count": null,
   "metadata": {},
   "outputs": [],
   "source": [
    "shap_values = shap_explainer.shap_values(df[[\"repair\"]+cols])\n",
    "print(\"shap_values: \", shap_values.shape)\n",
    "y_base = shap_explainer.expected_value\n",
    "print(\"y_base: \", y_base)"
   ]
  },
  {
   "cell_type": "code",
   "execution_count": null,
   "metadata": {},
   "outputs": [],
   "source": [
    "if MODEL_OUTPUT == \"margin\":\n",
    "    # margin explanation\n",
    "    df[\"pred\"] = model.predict(xgb.DMatrix(df[[\"repair\"]+cols], label=df[\"label\"]), output_margin=True)\n",
    "if MODEL_OUTPUT == \"probability\":\n",
    "    # probability explanation\n",
    "    df[\"pred\"] = model.predict(xgb.DMatrix(df[[\"repair\"]+cols], label=df[\"label\"]), output_margin=False)\n",
    "print(\"pred mean: \", df[\"pred\"].mean())\n",
    "df.head()"
   ]
  },
  {
   "cell_type": "code",
   "execution_count": null,
   "metadata": {},
   "outputs": [],
   "source": [
    "shap.force_plot(shap_explainer.expected_value, shap_values, df[[\"repair\"]+cols])"
   ]
  },
  {
   "cell_type": "code",
   "execution_count": null,
   "metadata": {
    "scrolled": true
   },
   "outputs": [],
   "source": [
    "shap.summary_plot(shap_values, df[[\"repair\"]+cols], plot_type=\"bar\")"
   ]
  },
  {
   "cell_type": "code",
   "execution_count": null,
   "metadata": {},
   "outputs": [],
   "source": [
    "shap.summary_plot(shap_values, df[[\"repair\"]+cols])"
   ]
  },
  {
   "cell_type": "code",
   "execution_count": null,
   "metadata": {},
   "outputs": [],
   "source": [
    "if MODEL_OUTPUT == \"margin\":\n",
    "    shap_interaction_values = shap_explainer.shap_interaction_values(df[[\"repair\"]+cols])\n",
    "    shap.summary_plot(shap_interaction_values, df[[\"repair\"]+cols], max_display=4)"
   ]
  },
  {
   "cell_type": "code",
   "execution_count": null,
   "metadata": {},
   "outputs": [],
   "source": [
    "# j = np.random.randint(N_SAMPLES)"
   ]
  },
  {
   "cell_type": "code",
   "execution_count": null,
   "metadata": {},
   "outputs": [],
   "source": [
    "i = np.random.choice(df[df[\"pred\"] <= 0.5].index.tolist())\n",
    "print(\"negative sample\")\n",
    "player_explainer = pd.DataFrame()\n",
    "player_explainer['feature'] = [\"repair\"]+cols\n",
    "player_explainer['feature_value'] = df[[\"repair\"]+cols].iloc[i].values\n",
    "player_explainer['shap_value'] = shap_values[i]\n",
    "player_explainer\n",
    "print(\"y_base + sum_of_shap_values: %.2f\" % (y_base + player_explainer[\"shap_value\"].sum()))\n",
    "print(\"y_pred: %.2f\" % (df[\"pred\"].iloc[i]))"
   ]
  },
  {
   "cell_type": "code",
   "execution_count": null,
   "metadata": {},
   "outputs": [],
   "source": [
    "shap.initjs()\n",
    "shap.force_plot(shap_explainer.expected_value, shap_values[i], df[[\"repair\"]+cols].iloc[i])"
   ]
  },
  {
   "cell_type": "code",
   "execution_count": null,
   "metadata": {},
   "outputs": [],
   "source": [
    "\n",
    "j = np.random.choice(df[df[\"pred\"] >= 0.5].index.tolist())\n",
    "print(\"positive sample\")\n",
    "player_explainer = pd.DataFrame()\n",
    "player_explainer['feature'] = [\"repair\"]+cols\n",
    "player_explainer['feature_value'] = df[[\"repair\"]+cols].iloc[j].values\n",
    "player_explainer['shap_value'] = shap_values[j]\n",
    "player_explainer\n",
    "print(\"y_base + sum_of_shap_values: %.2f\" % (y_base + player_explainer[\"shap_value\"].sum()))\n",
    "print(\"y_pred: %.2f\" % (df[\"pred\"].iloc[j]))"
   ]
  },
  {
   "cell_type": "code",
   "execution_count": null,
   "metadata": {},
   "outputs": [],
   "source": [
    "shap.initjs()\n",
    "shap.force_plot(shap_explainer.expected_value, shap_values[j], df[[\"repair\"]+cols].iloc[j])"
   ]
  },
  {
   "cell_type": "code",
   "execution_count": null,
   "metadata": {},
   "outputs": [],
   "source": [
    "FEATURE=\"doubleFlow_article_ctr_30_v1\"\n",
    "INTERACTION=\"doubleFlow_user_view_30\"\n",
    "shap.dependence_plot(FEATURE, shap_values, df[[\"repair\"]+cols], interaction_index=None, show=False)\n",
    "shap.dependence_plot(FEATURE, shap_values, df[[\"repair\"]+cols], interaction_index=INTERACTION, show=False) "
   ]
  },
  {
   "cell_type": "code",
   "execution_count": null,
   "metadata": {},
   "outputs": [],
   "source": [
    "# lime\n",
    "lime_explainer = lime.lime_tabular.LimeTabularExplainer(df[[\"repair\"]+cols].values, \n",
    "                                                   feature_names=[\"repair\"]+cols,\n",
    "                                                   class_names=[\"0\", \"1\"], \n",
    "                                                   verbose=True)"
   ]
  },
  {
   "cell_type": "code",
   "execution_count": null,
   "metadata": {},
   "outputs": [],
   "source": [
    "model.feature_names = None\n",
    "def predict_fn(x):\n",
    "    preds = model.predict(xgb.DMatrix(x))\n",
    "    return np.array([[1-p, p] for p in preds])"
   ]
  },
  {
   "cell_type": "code",
   "execution_count": null,
   "metadata": {
    "scrolled": false
   },
   "outputs": [],
   "source": [
    "i = np.random.choice(df[df[\"pred\"] <= 0.5].index.tolist())\n",
    "print(\"negative sample\")\n",
    "player_explainer = pd.DataFrame()\n",
    "player_explainer['feature'] = [\"repair\"]+cols\n",
    "player_explainer['feature_value'] = df[[\"repair\"]+cols].iloc[i].values\n",
    "player_explainer['shap_value'] = shap_values[i]\n",
    "player_explainer"
   ]
  },
  {
   "cell_type": "code",
   "execution_count": null,
   "metadata": {},
   "outputs": [],
   "source": [
    "exp = lime_explainer.explain_instance(df[[\"repair\"]+cols].values[i], predict_fn, num_features=5)\n",
    "exp.show_in_notebook(show_table=True)"
   ]
  },
  {
   "cell_type": "code",
   "execution_count": null,
   "metadata": {
    "scrolled": true
   },
   "outputs": [],
   "source": [
    "exp.as_list()\n",
    "fig = exp.as_pyplot_figure()\n",
    "fig.show()"
   ]
  },
  {
   "cell_type": "code",
   "execution_count": null,
   "metadata": {},
   "outputs": [],
   "source": [
    "j = np.random.choice(df[df[\"pred\"] >= 0.5].index.tolist())\n",
    "print(\"positive sample\")\n",
    "player_explainer = pd.DataFrame()\n",
    "player_explainer['feature'] = [\"repair\"]+cols\n",
    "player_explainer['feature_value'] = df[[\"repair\"]+cols].iloc[j].values\n",
    "player_explainer['shap_value'] = shap_values[j]\n",
    "player_explainer"
   ]
  },
  {
   "cell_type": "code",
   "execution_count": null,
   "metadata": {
    "scrolled": true
   },
   "outputs": [],
   "source": [
    "exp = lime_explainer.explain_instance(df[[\"repair\"]+cols].values[j], predict_fn, num_features=5)\n",
    "exp.show_in_notebook(show_table=True)"
   ]
  },
  {
   "cell_type": "code",
   "execution_count": null,
   "metadata": {},
   "outputs": [],
   "source": [
    "exp.as_list()\n",
    "fig = exp.as_pyplot_figure()\n",
    "fig.show()"
   ]
  },
  {
   "cell_type": "code",
   "execution_count": null,
   "metadata": {},
   "outputs": [],
   "source": [
    "!jupyter nbconvert --to python xgboost-shap-and-lime.ipynb"
   ]
  },
  {
   "cell_type": "code",
   "execution_count": null,
   "metadata": {},
   "outputs": [],
   "source": [
    "!jupyter nbconvert --to html xgboost-shap-and-lime.ipynb"
   ]
  },
  {
   "cell_type": "code",
   "execution_count": null,
   "metadata": {},
   "outputs": [],
   "source": [
    "# !jupyter nbconvert --to pdf xgboost-shap-and-lime.ipynb"
   ]
  },
  {
   "cell_type": "code",
   "execution_count": null,
   "metadata": {},
   "outputs": [],
   "source": [
    "!ls"
   ]
  }
 ],
 "metadata": {
  "kernelspec": {
   "display_name": "Python 3",
   "language": "python",
   "name": "python3"
  },
  "language_info": {
   "codemirror_mode": {
    "name": "ipython",
    "version": 3
   },
   "file_extension": ".py",
   "mimetype": "text/x-python",
   "name": "python",
   "nbconvert_exporter": "python",
   "pygments_lexer": "ipython3",
   "version": "3.7.3"
  }
 },
 "nbformat": 4,
 "nbformat_minor": 2
}
